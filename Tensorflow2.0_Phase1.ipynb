{
 "cells": [
  {
   "cell_type": "code",
   "execution_count": null,
   "source": [
    "import numpy as np\r\n",
    "import tarfile\r\n",
    "import pandas as pd\r\n",
    "import matplotlib.pyplot as plt\r\n",
    "import tensorflow as tf\r\n",
    "#tf.disable_v2_behavior()\r\n",
    "from PIL import Image\r\n",
    "\r\n"
   ],
   "outputs": [],
   "metadata": {}
  },
  {
   "cell_type": "code",
   "execution_count": null,
   "source": [
    "cach_dir=\"C:/Users/mic/.keras/datasets\"\r\n",
    "train_url=\"http://download.tensorflow.org/data/iris_training.csv\"\r\n",
    "train_path=tf.keras.utils.get_file(train_url.split('/')[-1], train_url, cach_dir)\r\n",
    "\r\n",
    "iris=pd.read_csv(train_path)\r\n",
    "irisNp = np.array(iris)\r\n",
    "irisTf=tf.convert_to_tensor(irisNp)\r\n",
    "irisTf.shape\r\n",
    "\r\n",
    "gpus=tf.config.experimental.list_physical_devices('gpu')\r\n",
    "gpus"
   ],
   "outputs": [],
   "metadata": {}
  },
  {
   "cell_type": "code",
   "execution_count": null,
   "source": [
    "train_x=irisNp[:,0:2]\r\n",
    "train_y=irisNp[:,4]\r\n",
    "train_x=train_x[train_y < 2]\r\n",
    "train_y=train_y[train_y < 2]\r\n",
    "num = len(train_y)\r\n",
    "train_x.shape,train_y.shape,num\r\n",
    "plt.scatter(train_x[:,0],train_x[:,1], c=train_y, cmap='brg' )\r\n",
    "plt.show()\r\n",
    "\r\n",
    "X0=np.ones(num).reshape(-1,1)\r\n",
    "#print(num)\r\n",
    "print(X0.shape)\r\n",
    "X=tf.cast( tf.concat((X0,train_x),axis=1), tf.float32)\r\n",
    "print(X)\r\n",
    "Y=tf.cast( train_y.reshape(-1,1), tf.float32)\r\n",
    "print(Y)\r\n"
   ],
   "outputs": [],
   "metadata": {}
  },
  {
   "cell_type": "code",
   "execution_count": null,
   "source": [
    "ce=[]\r\n",
    "acc=[]\r\n",
    "itr=3000\r\n",
    "learn_rate=0.01\r\n",
    "np.random.seed(62)\r\n",
    "W=tf.Variable(np.random.randn(3,1),dtype=tf.float32)\r\n",
    "\r\n",
    "for i in range(itr+1):\r\n",
    "    with tf.GradientTape() as tape:\r\n",
    "        PRED=1/(1+tf.exp(-tf.matmul(X,W)))\r\n",
    "        LOSS=-tf.reduce_mean(Y*tf.math.log(PRED)+(1-Y)*tf.math.log(1-PRED))\r\n",
    "    accuracy=tf.reduce_mean(tf.cast(tf.equal(tf.where(PRED.numpy()<0.5,0.,1.),Y),tf.float32))\r\n",
    "    ce.append(LOSS)\r\n",
    "    acc.append(accuracy)\r\n",
    "\r\n",
    "    dL_dW=tape.gradient(LOSS,W)\r\n",
    "    W.assign_sub(learn_rate*dL_dW)\r\n",
    "\r\n",
    "    print(\"<%d>:Loss: %f, ACC:%f\" %(i,LOSS,accuracy))"
   ],
   "outputs": [],
   "metadata": {}
  },
  {
   "cell_type": "code",
   "execution_count": null,
   "source": [
    "plt.figure(figsize=(5,5))\r\n",
    "plt.plot(ce,color=\"red\",label=\"LOSS\")\r\n",
    "plt.plot(acc,color=\"blue\",label=\"ACC\")\r\n",
    "plt.legend\r\n",
    "plt.text(1,2,\"W:%s\" %W)\r\n",
    "plt.show()"
   ],
   "outputs": [],
   "metadata": {}
  },
  {
   "cell_type": "code",
   "execution_count": null,
   "source": [
    "plt.xlim(train_x[:,0].min(axis=0),train_x[:,0].max(axis=0))\r\n",
    "plt.ylim(train_x[:,1].min(axis=0),train_x[:,1].max(axis=0))\r\n",
    "X,Y=np.meshgrid(train_x[:,0],train_x[:,1])\r\n",
    "Z=X+Y\r\n",
    "plt.pcolormesh(X,Y,Z,cmap=\"rainbow\")\r\n",
    "plt.scatter(train_x[:,0],train_x[:,1], c=train_y, cmap='brg' )\r\n",
    "x_=[5.8,3.25]\r\n",
    "yhats=-(W[0]+W[1]*x_)/W[2]\r\n",
    "plt.plot(x_,yhats,color='red')\r\n",
    "\r\n",
    "plt.show()\r\n"
   ],
   "outputs": [],
   "metadata": {}
  },
  {
   "cell_type": "code",
   "execution_count": null,
   "source": [
    "boston_housing=tf.keras.datasets.boston_housing\r\n",
    "(train_x, train_y),(test_x, test_y) = boston_housing.load_data()\r\n",
    "#print(np.shape(train_x))\r\n",
    "plt.scatter(train_x[:,5], train_y)\r\n",
    "\r\n",
    "print(train_x.shape)\r\n",
    "\r\n",
    "x=train_x[:,5]\r\n",
    "y=train_y\r\n",
    "\r\n",
    "meanX=tf.reduce_mean(x)\r\n",
    "meanY=tf.reduce_mean(y)\r\n",
    "\r\n",
    "sumXY=tf.reduce_sum( (x-meanX)*(y-meanY) )\r\n",
    "sumX=tf.reduce_sum( (x-meanX)*(y-meanX) )\r\n",
    "\r\n",
    "w=sumXY/sumX\r\n",
    "b=meanY-w*meanX\r\n",
    "print(\"w:%d, b:%d\" %(w,b))\r\n",
    "hy=x*w+b\r\n",
    "plt.plot(x,hy,\"red\")\r\n",
    "#plt.show()"
   ],
   "outputs": [],
   "metadata": {}
  },
  {
   "cell_type": "code",
   "execution_count": null,
   "source": [
    "\"\"\"\r\n",
    "XX=np.insert(train_x[:,4:6], 2, 1, axis=1)\r\n",
    "YY=y.T.reshape(-1,1)\r\n",
    "print(XX)\r\n",
    "print(np.shape(XX))\r\n",
    "print(np.shape(YY))\r\n",
    "\r\n",
    "AA=np.matmul(XX.T, XX)\r\n",
    "AAI=np.linalg.inv(AA)\r\n",
    "\r\n",
    "BB=np.matmul(XX.T, YY)\r\n",
    "W=np.matmul(AAI,BB)\r\n",
    "\r\n",
    "#WW=np.matmul(np.linalg.inv(np.matmul(XX.T, XX)),XX.T*YY)\r\n",
    "print(\"size:%d value=%s\" %(np.size(W) , W.reshape(-1)))\r\n",
    "\r\n",
    "def f(x,y):\r\n",
    "    return (W[0]*x+W[1]*y + W[2])\r\n",
    "\r\n",
    "X,Y=np.meshgrid(train_x[:,4],train_x[:,5])\r\n",
    "Z=f(X,Y)\r\n",
    "fig = plt.figure(figsize=(8,8))\r\n",
    "ax = plt.axes(projection='3d')\r\n",
    "ax.scatter(X,Y,Z,color='r',marker='*')\r\n",
    "ax.plot_surface(X, Y, Z, cmap=\"coolwarm\")\r\n",
    "ax.view_init()\r\n",
    "#plt.show()\r\n",
    "\"\"\"\r\n"
   ],
   "outputs": [],
   "metadata": {}
  },
  {
   "cell_type": "code",
   "execution_count": null,
   "source": [
    "a=tf.constant([[1,2],[3,4]])\r\n",
    "c=tf.constant([[1,2],[3,4]])\r\n",
    "#a.numpy()\r\n",
    "#b=tf.truncated_normal((100,1),2)\r\n",
    "#b=np.ceil(b.numpy())\r\n",
    "#plt.hist(b)\r\n",
    "#plt.show()\r\n",
    "\r\n",
    "print(a+c)\r\n"
   ],
   "outputs": [],
   "metadata": {}
  },
  {
   "cell_type": "code",
   "execution_count": null,
   "source": [
    "x=np.array([1.,2.,3.,4.])\r\n",
    "w=tf.Variable(1.)\r\n",
    "b=tf.Variable(1.)\r\n"
   ],
   "outputs": [],
   "metadata": {}
  },
  {
   "cell_type": "code",
   "execution_count": null,
   "source": [
    "1/(1+tf.exp(-(w*x+b)))"
   ],
   "outputs": [],
   "metadata": {}
  },
  {
   "cell_type": "code",
   "execution_count": null,
   "source": [
    "cach_dir=\"C:/Users/mic/.keras/datasets\"\r\n",
    "train_url=\"http://download.tensorflow.org/data/iris_training.csv\"\r\n",
    "train_path=tf.keras.utils.get_file(train_url.split('/')[-1], train_url, cach_dir)\r\n",
    "\r\n",
    "iris=pd.read_csv(train_path)\r\n",
    "irisNp = np.array(iris)\r\n",
    "\r\n",
    "train_x=irisNp[:,0:4]\r\n",
    "train_y=irisNp[:,4]\r\n",
    "\r\n",
    "\r\n",
    "train_x=train_x-np.mean(train_x,axis=0)\r\n",
    "train_x.shape, train_y.shape,train_x,train_y\r\n",
    "\r\n",
    "train_x.dtype,train_y.dtype\r\n",
    "\r\n",
    "X=tf.cast(train_x,tf.float32)\r\n",
    "Y=tf.cast(tf.one_hot(tf.constant(train_y, dtype=tf.int32), 3 ), dtype=tf.int64)\r\n",
    "X,Y,X.shape,Y.shape"
   ],
   "outputs": [],
   "metadata": {}
  },
  {
   "cell_type": "code",
   "execution_count": null,
   "source": [
    "alpha=0.5\r\n",
    "itr=50\r\n",
    "\r\n",
    "W1=tf.Variable(np.random.randn(4,8),dtype=np.float32)\r\n",
    "B1=tf.Variable(tf.zeros([8]), dtype=tf.float32)\r\n",
    "\r\n",
    "W2=tf.Variable(np.random.randn(8,3),dtype=np.float32)\r\n",
    "B2=tf.Variable(tf.zeros([3]), dtype=tf.float32)\r\n",
    "\r\n",
    "acc=[]\r\n",
    "cce=[]\r\n",
    "\r\n",
    "for i in range(itr+1):\r\n",
    "    with tf.GradientTape() as tape:\r\n",
    "        hidden=tf.nn.relu(tf.matmul(X,W1)+B1)\r\n",
    "        PRED=tf.nn.softmax(tf.matmul(hidden,W2)+B2)\r\n",
    "        print(PRED.shape)\r\n",
    "        LOSS=tf.reduce_mean(tf.keras.losses.categorical_crossentropy(y_true=Y, y_pred=PRED))\r\n",
    "\r\n",
    "    #print(tf.argmax(PRED.numpy(),axis=1))\r\n",
    "    #print(Y)\r\n",
    "    #print(tf.argmax(Y, axis=1))\r\n",
    "    #print(  tf.cast ( tf.equal(tf.argmax(PRED.numpy(),axis=1), tf.argmax(Y, axis=1) ) , tf.float32) )\r\n",
    "    \r\n",
    "    a=tf.reduce_mean(tf.cast(tf.equal(tf.argmax(PRED.numpy(),axis=1), train_y), tf.float32))  \r\n",
    "\r\n",
    "    #print(tf.argmax(PRED.numpy(),axis=1))\r\n",
    "    #print(train_y)\r\n",
    "\r\n",
    "    print(a)\r\n",
    "    acc.append(a)\r\n",
    "    cce.append(LOSS)\r\n",
    "\r\n",
    "    grads=tape.gradient(LOSS, [W1,B1,W2,B2])\r\n",
    "    W1.assign_sub(alpha*grads[0])\r\n",
    "    B1.assign_sub(alpha*grads[1])\r\n",
    "    W2.assign_sub(alpha*grads[2])\r\n",
    "    B2.assign_sub(alpha*grads[3])\r\n",
    "\r\n",
    "    print(\"<%d>:Loss: %f, ACC:%f\" %(i,LOSS,a))\r\n",
    "\r\n",
    "plt.text(2,2,\"Loss: %f, ACC:%f W1:%s B1:%s W2:%s B2:%s\" %(LOSS,a,W1, B1, W2, B2))\r\n",
    "plt.plot(cce,color='red')\r\n",
    "plt.plot(acc,color='blue')"
   ],
   "outputs": [],
   "metadata": {}
  }
 ],
 "metadata": {
  "kernelspec": {
   "name": "python3",
   "display_name": "Python 3.7.11 64-bit ('tensorflow': conda)"
  },
  "language_info": {
   "codemirror_mode": {
    "name": "ipython",
    "version": 3
   },
   "file_extension": ".py",
   "mimetype": "text/x-python",
   "name": "python",
   "nbconvert_exporter": "python",
   "pygments_lexer": "ipython3",
   "version": "3.7.11"
  },
  "interpreter": {
   "hash": "fb4899e21819f12792cc43afe8e0116933b76af9efe7c0093f502fb73958fc94"
  }
 },
 "nbformat": 4,
 "nbformat_minor": 5
}