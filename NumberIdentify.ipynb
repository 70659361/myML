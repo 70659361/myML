{
 "cells": [
  {
   "cell_type": "code",
   "execution_count": 11,
   "source": [
    "import tensorflow as tf\r\n",
    "from tensorflow import keras as kr\r\n",
    "\r\n",
    "import numpy as np\r\n",
    "import matplotlib.pyplot as plt\r\n",
    "\r\n",
    "import pandas as pd\r\n",
    "from PIL import Image\r\n",
    "import struct\r\n",
    "\r\n",
    "#import TensorBoard\r\n",
    "\r\n",
    "tf.__version__,tf.keras.__version__"
   ],
   "outputs": [
    {
     "output_type": "execute_result",
     "data": {
      "text/plain": [
       "('2.3.0', '2.4.0')"
      ]
     },
     "metadata": {},
     "execution_count": 11
    }
   ],
   "metadata": {}
  },
  {
   "cell_type": "code",
   "execution_count": 12,
   "source": [
    "IMAGE_TR_FILE_NAME='./dataset/train-images.idx3-ubyte'\r\n",
    "LABEL_TR_FILE_NAME='./dataset/train-labels.idx1-ubyte'\r\n",
    "\r\n",
    "IMAGE_TS_FILE_NAME='./dataset/t10k-images.idx3-ubyte'\r\n",
    "LABEL_TS_FILE_NAME='./dataset/t10k-labels.idx1-ubyte'\r\n",
    "\r\n",
    "def load_images(file_name):\r\n",
    "    binfile=open(file_name,'rb')\r\n",
    "    buffers=binfile.read()\r\n",
    "    magic, num, rows, cols = struct.unpack_from('>IIII', buffers, 0)\r\n",
    "    bits = num * rows * cols\r\n",
    "    images = struct.unpack_from('>' + str(bits) + 'B', buffers, struct.calcsize('>IIII'))\r\n",
    "    binfile.close()\r\n",
    "    images = np.reshape(images, [num, rows * cols])\r\n",
    "    return images\r\n",
    "\r\n",
    "def load_labels(file_name):\r\n",
    "    binfile = open(file_name, 'rb')\r\n",
    "    buffers = binfile.read()\r\n",
    "    magic,num = struct.unpack_from('>II', buffers, 0) \r\n",
    "    labels = struct.unpack_from('>' + str(num) + \"B\", buffers, struct.calcsize('>II'))\r\n",
    "    binfile.close()\r\n",
    "    labels = np.reshape(labels, [num])\r\n",
    "    return labels  \r\n",
    "\r\n",
    "def showImage(buffer,index=1):\r\n",
    "    p=plt.subplot(10,10,index)\r\n",
    "    p.imshow(buffer, cmap = matplotlib.cm.binary, interpolation=\"nearest\")\r\n",
    "    p.axis(\"off\")\r\n",
    "    plt.ion()\r\n",
    "    plt.show()\r\n",
    "    plt.pause(1)"
   ],
   "outputs": [],
   "metadata": {}
  },
  {
   "cell_type": "code",
   "execution_count": 13,
   "source": [
    "train_x=load_images(IMAGE_TR_FILE_NAME).reshape((60000,28,28))\r\n",
    "train_y=load_labels(LABEL_TR_FILE_NAME)\r\n",
    "\r\n",
    "test_x=load_images(IMAGE_TS_FILE_NAME).reshape((10000,28,28))\r\n",
    "test_y=load_labels(LABEL_TS_FILE_NAME)\r\n",
    "\r\n",
    "train_x.shape,train_y.shape,test_x.shape,test_y.shape"
   ],
   "outputs": [
    {
     "output_type": "execute_result",
     "data": {
      "text/plain": [
       "((60000, 28, 28), (60000,), (10000, 28, 28), (10000,))"
      ]
     },
     "metadata": {},
     "execution_count": 13
    }
   ],
   "metadata": {}
  },
  {
   "cell_type": "code",
   "execution_count": 14,
   "source": [
    "X_train, X_test=tf.cast(train_x/255.0, tf.float32), tf.cast(test_x/255.0, tf.float32)\r\n",
    "Y_train, Y_test=tf.cast(train_y,tf.int16), tf.cast(test_y, tf.int16)\r\n",
    "type(X_train)\r\n",
    "print(Y_test)"
   ],
   "outputs": [
    {
     "output_type": "stream",
     "name": "stdout",
     "text": [
      "tf.Tensor([7 2 1 ... 4 5 6], shape=(10000,), dtype=int16)\n"
     ]
    }
   ],
   "metadata": {}
  },
  {
   "cell_type": "code",
   "execution_count": 15,
   "source": [
    "model=tf.keras.Sequential()\r\n",
    "model.add(tf.keras.layers.Flatten(input_shape=(28,28)))\r\n",
    "#model.add(tf.keras.layers.Dense(128,activation='relu'))\r\n",
    "model.add(tf.keras.layers.Dense(128,activation='sigmoid'))\r\n",
    "model.add(tf.keras.layers.Dense(10,activation='softmax'))\r\n",
    "model.summary()\r\n",
    "\r\n",
    "model.compile(optimizer='adam', loss='sparse_categorical_crossentropy', metrics=['sparse_categorical_accuracy'])"
   ],
   "outputs": [
    {
     "output_type": "stream",
     "name": "stdout",
     "text": [
      "Model: \"sequential\"\n",
      "_________________________________________________________________\n",
      "Layer (type)                 Output Shape              Param #   \n",
      "=================================================================\n",
      "flatten (Flatten)            (None, 784)               0         \n",
      "_________________________________________________________________\n",
      "dense (Dense)                (None, 128)               100480    \n",
      "_________________________________________________________________\n",
      "dense_1 (Dense)              (None, 10)                1290      \n",
      "=================================================================\n",
      "Total params: 101,770\n",
      "Trainable params: 101,770\n",
      "Non-trainable params: 0\n",
      "_________________________________________________________________\n"
     ]
    }
   ],
   "metadata": {}
  },
  {
   "cell_type": "code",
   "execution_count": 16,
   "source": [
    "model.fit(X_train, Y_train, batch_size=64, epochs=10, validation_split=0.2)"
   ],
   "outputs": [
    {
     "output_type": "stream",
     "name": "stdout",
     "text": [
      "Epoch 1/10\n",
      "750/750 [==============================] - 2s 2ms/step - loss: 0.5330 - sparse_categorical_accuracy: 0.8691 - val_loss: 0.2766 - val_sparse_categorical_accuracy: 0.9237\n",
      "Epoch 2/10\n",
      "750/750 [==============================] - 1s 2ms/step - loss: 0.2557 - sparse_categorical_accuracy: 0.9276 - val_loss: 0.2156 - val_sparse_categorical_accuracy: 0.9410\n",
      "Epoch 3/10\n",
      "750/750 [==============================] - 1s 2ms/step - loss: 0.2001 - sparse_categorical_accuracy: 0.9422 - val_loss: 0.1764 - val_sparse_categorical_accuracy: 0.9519\n",
      "Epoch 4/10\n",
      "750/750 [==============================] - 2s 2ms/step - loss: 0.1644 - sparse_categorical_accuracy: 0.9531 - val_loss: 0.1568 - val_sparse_categorical_accuracy: 0.9556\n",
      "Epoch 5/10\n",
      "750/750 [==============================] - 2s 2ms/step - loss: 0.1376 - sparse_categorical_accuracy: 0.9605 - val_loss: 0.1392 - val_sparse_categorical_accuracy: 0.9604\n",
      "Epoch 6/10\n",
      "750/750 [==============================] - 2s 2ms/step - loss: 0.1179 - sparse_categorical_accuracy: 0.9663 - val_loss: 0.1331 - val_sparse_categorical_accuracy: 0.9611\n",
      "Epoch 7/10\n",
      "750/750 [==============================] - 1s 2ms/step - loss: 0.1016 - sparse_categorical_accuracy: 0.9715 - val_loss: 0.1218 - val_sparse_categorical_accuracy: 0.9636\n",
      "Epoch 8/10\n",
      "750/750 [==============================] - 2s 2ms/step - loss: 0.0885 - sparse_categorical_accuracy: 0.9758 - val_loss: 0.1109 - val_sparse_categorical_accuracy: 0.9664\n",
      "Epoch 9/10\n",
      "750/750 [==============================] - 1s 2ms/step - loss: 0.0777 - sparse_categorical_accuracy: 0.9785 - val_loss: 0.1034 - val_sparse_categorical_accuracy: 0.9694\n",
      "Epoch 10/10\n",
      "750/750 [==============================] - 1s 2ms/step - loss: 0.0681 - sparse_categorical_accuracy: 0.9819 - val_loss: 0.1000 - val_sparse_categorical_accuracy: 0.9708\n"
     ]
    },
    {
     "output_type": "execute_result",
     "data": {
      "text/plain": [
       "<tensorflow.python.keras.callbacks.History at 0x24fc5f24288>"
      ]
     },
     "metadata": {},
     "execution_count": 16
    }
   ],
   "metadata": {}
  },
  {
   "cell_type": "code",
   "execution_count": 17,
   "source": [
    "model.evaluate(X_test, Y_test, verbose=2)"
   ],
   "outputs": [
    {
     "output_type": "stream",
     "name": "stdout",
     "text": [
      "313/313 - 0s - loss: 0.0937 - sparse_categorical_accuracy: 0.9718\n"
     ]
    },
    {
     "output_type": "execute_result",
     "data": {
      "text/plain": [
       "[0.0937095358967781, 0.9718000292778015]"
      ]
     },
     "metadata": {},
     "execution_count": 17
    }
   ],
   "metadata": {}
  },
  {
   "cell_type": "code",
   "execution_count": 18,
   "source": [
    "model.save('./model/my_mnist_linear',overwrite=True, save_format='tf',include_optimizer=True)\r\n",
    "#model.save_weights('./model/my_mnist_linear', overwrite=True, save_format='tf')"
   ],
   "outputs": [
    {
     "output_type": "stream",
     "name": "stdout",
     "text": [
      "WARNING:tensorflow:From C:\\App\\Miniconda3\\envs\\tensorflow\\lib\\site-packages\\tensorflow\\python\\training\\tracking\\tracking.py:111: Model.state_updates (from tensorflow.python.keras.engine.training) is deprecated and will be removed in a future version.\n",
      "Instructions for updating:\n",
      "This property should not be used in TensorFlow 2.0, as updates are applied automatically.\n",
      "WARNING:tensorflow:From C:\\App\\Miniconda3\\envs\\tensorflow\\lib\\site-packages\\tensorflow\\python\\training\\tracking\\tracking.py:111: Layer.updates (from tensorflow.python.keras.engine.base_layer) is deprecated and will be removed in a future version.\n",
      "Instructions for updating:\n",
      "This property should not be used in TensorFlow 2.0, as updates are applied automatically.\n",
      "INFO:tensorflow:Assets written to: ./model/my_mnist_linear\\assets\n"
     ]
    }
   ],
   "metadata": {}
  },
  {
   "cell_type": "code",
   "execution_count": 19,
   "source": [
    "pred=np.argmax(model.predict(X_test), axis=1)\r\n",
    "print(pred)\r\n",
    "\r\n",
    "for i in range(16):\r\n",
    "    n=np.random.randint(1,10000)\r\n",
    "    plt.subplot(4,4,i+1)\r\n",
    "    plt.axis(\"off\")\r\n",
    "    plt.imshow(test_x[n], cmap='gray')\r\n",
    "    if(test_y[n]==pred[n]):\r\n",
    "        res=\"OK\"\r\n",
    "    else:\r\n",
    "        res=\"NG\"\r\n",
    "    plt.title(\"[%d]-p<%d> %s\" %(test_y[n], pred[n],res))\r\n",
    "plt.show()"
   ],
   "outputs": [
    {
     "output_type": "stream",
     "name": "stdout",
     "text": [
      "[7 2 1 ... 4 5 6]\n"
     ]
    },
    {
     "output_type": "display_data",
     "data": {
      "image/png": "[encoded data removed]",
      "text/plain": [
       "<Figure size 432x288 with 16 Axes>"
      ]
     },
     "metadata": {
      "needs_background": "light"
     }
    }
   ],
   "metadata": {}
  },
  {
   "cell_type": "code",
   "execution_count": 20,
   "source": [
    "lmodel=kr.models.load_model('./model/my_mnist_linear')\r\n",
    "#model.load_weights('./model/my_mnist_linear')\r\n",
    "lmodel.summary()\r\n",
    "\r\n"
   ],
   "outputs": [
    {
     "output_type": "stream",
     "name": "stdout",
     "text": [
      "Model: \"sequential\"\n",
      "_________________________________________________________________\n",
      "Layer (type)                 Output Shape              Param #   \n",
      "=================================================================\n",
      "flatten (Flatten)            (None, 784)               0         \n",
      "_________________________________________________________________\n",
      "dense (Dense)                (None, 128)               100480    \n",
      "_________________________________________________________________\n",
      "dense_1 (Dense)              (None, 10)                1290      \n",
      "=================================================================\n",
      "Total params: 101,770\n",
      "Trainable params: 101,770\n",
      "Non-trainable params: 0\n",
      "_________________________________________________________________\n"
     ]
    }
   ],
   "metadata": {}
  }
 ],
 "metadata": {
  "kernelspec": {
   "name": "python3",
   "display_name": "Python 3.7.11 64-bit ('tensorflow': conda)"
  },
  "language_info": {
   "codemirror_mode": {
    "name": "ipython",
    "version": 3
   },
   "file_extension": ".py",
   "mimetype": "text/x-python",
   "name": "python",
   "nbconvert_exporter": "python",
   "pygments_lexer": "ipython3",
   "version": "3.7.11"
  },
  "interpreter": {
   "hash": "fb4899e21819f12792cc43afe8e0116933b76af9efe7c0093f502fb73958fc94"
  }
 },
 "nbformat": 4,
 "nbformat_minor": 5
}