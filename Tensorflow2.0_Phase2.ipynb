{
 "cells": [
  {
   "cell_type": "code",
   "execution_count": null,
   "source": [
    "import tensorflow as tf\r\n",
    "from tensorflow import keras as kr\r\n",
    "\r\n",
    "import numpy as np\r\n",
    "import matplotlib.pyplot as plt\r\n",
    "\r\n",
    "import pandas as pd\r\n",
    "from PIL import Image\r\n",
    "import struct\r\n",
    "\r\n",
    "tf.__version__,tf.keras.__version__"
   ],
   "outputs": [],
   "metadata": {}
  },
  {
   "cell_type": "code",
   "execution_count": null,
   "source": [
    "IMAGE_TR_FILE_NAME='C:/Mic/projects/AD/machinelearning/dataset/train-images.idx3-ubyte'\r\n",
    "LABEL_TR_FILE_NAME='C:/Mic/projects/AD/machinelearning/dataset/train-labels.idx1-ubyte'\r\n",
    "\r\n",
    "IMAGE_TS_FILE_NAME='C:/Mic/projects/AD/machinelearning/dataset/t10k-images.idx3-ubyte'\r\n",
    "LABEL_TS_FILE_NAME='C:/Mic/projects/AD/machinelearning/dataset/t10k-labels.idx1-ubyte'\r\n",
    "\r\n",
    "def load_images(file_name):\r\n",
    "    binfile=open(file_name,'rb')\r\n",
    "    buffers=binfile.read()\r\n",
    "    magic, num, rows, cols = struct.unpack_from('>IIII', buffers, 0)\r\n",
    "    bits = num * rows * cols\r\n",
    "    images = struct.unpack_from('>' + str(bits) + 'B', buffers, struct.calcsize('>IIII'))\r\n",
    "    binfile.close()\r\n",
    "    images = np.reshape(images, [num, rows * cols])\r\n",
    "    return images\r\n",
    "\r\n",
    "def load_labels(file_name):\r\n",
    "    binfile = open(file_name, 'rb')\r\n",
    "    buffers = binfile.read()\r\n",
    "    magic,num = struct.unpack_from('>II', buffers, 0) \r\n",
    "    labels = struct.unpack_from('>' + str(num) + \"B\", buffers, struct.calcsize('>II'))\r\n",
    "    binfile.close()\r\n",
    "    labels = np.reshape(labels, [num])\r\n",
    "    return labels  \r\n",
    "\r\n",
    "def showImage(buffer,index=1):\r\n",
    "    p=plt.subplot(10,10,index)\r\n",
    "    p.imshow(buffer, cmap = matplotlib.cm.binary, interpolation=\"nearest\")\r\n",
    "    p.axis(\"off\")\r\n",
    "    plt.ion()\r\n",
    "    plt.show()\r\n",
    "    plt.pause(1)"
   ],
   "outputs": [],
   "metadata": {}
  },
  {
   "cell_type": "code",
   "execution_count": null,
   "source": [
    "train_x=load_images(IMAGE_TR_FILE_NAME).reshape((60000,28,28))\r\n",
    "train_y=load_labels(LABEL_TR_FILE_NAME)\r\n",
    "\r\n",
    "test_x=load_images(IMAGE_TS_FILE_NAME).reshape((10000,28,28))\r\n",
    "test_y=load_labels(LABEL_TS_FILE_NAME)\r\n",
    "\r\n",
    "train_x.shape,train_y.shape,test_x.shape,test_y.shape"
   ],
   "outputs": [],
   "metadata": {}
  },
  {
   "cell_type": "code",
   "execution_count": null,
   "source": [
    "X_train, X_test=tf.cast(train_x/255.0, tf.float32), tf.cast(test_x/255.0, tf.float32)\r\n",
    "Y_train, Y_test=tf.cast(train_y,tf.int16), tf.cast(test_y, tf.int16)\r\n",
    "type(X_train)"
   ],
   "outputs": [],
   "metadata": {}
  },
  {
   "cell_type": "code",
   "execution_count": null,
   "source": [
    "model=tf.keras.Sequential()\r\n",
    "model.add(tf.keras.layers.Flatten(input_shape=(28,28)))\r\n",
    "#model.add(tf.keras.layers.Dense(128,activation='relu'))\r\n",
    "model.add(tf.keras.layers.Dense(128,activation='sigmoid'))\r\n",
    "model.add(tf.keras.layers.Dense(10,activation='softmax'))\r\n",
    "model.summary()\r\n",
    "\r\n",
    "model.compile(optimizer='adam', loss='sparse_categorical_crossentropy', metrics=['sparse_categorical_accuracy'])"
   ],
   "outputs": [],
   "metadata": {}
  },
  {
   "cell_type": "code",
   "execution_count": null,
   "source": [
    "model.fit(X_train, Y_train, batch_size=64, epochs=10, validation_split=0.2)"
   ],
   "outputs": [],
   "metadata": {}
  },
  {
   "cell_type": "code",
   "execution_count": null,
   "source": [
    "model.evaluate(X_test, Y_test, verbose=2)"
   ],
   "outputs": [],
   "metadata": {}
  },
  {
   "cell_type": "code",
   "execution_count": null,
   "source": [
    "model.save('./model/my_mnist_linear',overwrite=True, save_format='tf',include_optimizer=True)\r\n",
    "#model.save_weights('./model/my_mnist_linear', overwrite=True, save_format='tf')"
   ],
   "outputs": [],
   "metadata": {}
  },
  {
   "cell_type": "code",
   "execution_count": null,
   "source": [
    "pred=np.argmax(model.predict(X_test), axis=1)\r\n",
    "print(pred)\r\n",
    "\r\n",
    "for i in range(16):\r\n",
    "    n=np.random.randint(1,10000)\r\n",
    "    plt.subplot(4,4,i+1)\r\n",
    "    plt.axis(\"off\")\r\n",
    "    plt.imshow(test_x[n], cmap='gray')\r\n",
    "    if(test_y[n]==pred[n]):\r\n",
    "        res=\"OK\"\r\n",
    "    else:\r\n",
    "        res=\"NG\"\r\n",
    "    plt.title(\"[%d]-p<%d> %s\" %(test_y[n], pred[n],res))\r\n",
    "plt.show()\r\n"
   ],
   "outputs": [],
   "metadata": {}
  },
  {
   "cell_type": "code",
   "execution_count": null,
   "source": [
    "lmodel=kr.models.load_model('./model/my_mnist_linear')\r\n",
    "#model.load_weights('./model/my_mnist_linear')\r\n",
    "lmodel.summary()\r\n",
    "\r\n"
   ],
   "outputs": [],
   "metadata": {}
  }
 ],
 "metadata": {
  "kernelspec": {
   "name": "python3",
   "display_name": "Python 3.7.11 64-bit ('tensorflow': conda)"
  },
  "language_info": {
   "codemirror_mode": {
    "name": "ipython",
    "version": 3
   },
   "file_extension": ".py",
   "mimetype": "text/x-python",
   "name": "python",
   "nbconvert_exporter": "python",
   "pygments_lexer": "ipython3",
   "version": "3.7.11"
  },
  "interpreter": {
   "hash": "fb4899e21819f12792cc43afe8e0116933b76af9efe7c0093f502fb73958fc94"
  }
 },
 "nbformat": 4,
 "nbformat_minor": 5
}