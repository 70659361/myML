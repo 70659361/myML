{
 "cells": [
  {
   "cell_type": "code",
   "execution_count": 3,
   "source": [
    "import cv2 as cv\r\n",
    "import numpy as np\r\n",
    "import matplotlib.pyplot as plt\r\n",
    "\r\n",
    "FILE_PATH=\"./dataset/face/\"\r\n",
    "\r\n",
    "p=cv.imread(FILE_PATH+\"jelly/326676628.jpg\",1)\r\n",
    "cv.imshow(\"img\", p)\r\n",
    "cv.waitKey(0)\r\n",
    "\r\n",
    "#plt.imshow(p[:,:,::-1])"
   ],
   "outputs": [
    {
     "output_type": "execute_result",
     "data": {
      "text/plain": [
       "-1"
      ]
     },
     "metadata": {},
     "execution_count": 3
    }
   ],
   "metadata": {}
  }
 ],
 "metadata": {
  "orig_nbformat": 4,
  "language_info": {
   "name": "python",
   "version": "3.7.11",
   "mimetype": "text/x-python",
   "codemirror_mode": {
    "name": "ipython",
    "version": 3
   },
   "pygments_lexer": "ipython3",
   "nbconvert_exporter": "python",
   "file_extension": ".py"
  },
  "kernelspec": {
   "name": "python3",
   "display_name": "Python 3.7.11 64-bit ('tensorflow': conda)"
  },
  "interpreter": {
   "hash": "fb4899e21819f12792cc43afe8e0116933b76af9efe7c0093f502fb73958fc94"
  }
 },
 "nbformat": 4,
 "nbformat_minor": 2
}