{
 "cells": [
  {
   "cell_type": "code",
   "execution_count": null,
   "source": [
    "import cv2 as cv\r\n",
    "import numpy as np\r\n",
    "import matplotlib.pyplot as plt\r\n",
    "import tensorflow as tf\r\n",
    "from tensorflow.keras import datasets, layers, models\r\n",
    "import pickle\r\n"
   ],
   "outputs": [],
   "metadata": {}
  },
  {
   "cell_type": "code",
   "execution_count": null,
   "source": [
    "def unpickle(file):\r\n",
    "    with open(file, 'rb') as fo:\r\n",
    "        dict = pickle.load(fo, encoding='bytes')\r\n",
    "    return dict"
   ],
   "outputs": [],
   "metadata": {}
  },
  {
   "cell_type": "code",
   "execution_count": null,
   "source": [
    "def getRGB(img):\r\n",
    "\r\n",
    "    r=img[0:1024]\r\n",
    "    g=img[1024:2048]\r\n",
    "    b=img[2048:3072]\r\n",
    "\r\n",
    "    rs=np.array(r).reshape(32,32)\r\n",
    "    gs=np.array(g).reshape(32,32)\r\n",
    "    bs=np.array(b).reshape(32,32)\r\n",
    "\r\n",
    "    cimg=cv.merge([rs,gs,bs])\r\n",
    "    return cimg"
   ],
   "outputs": [],
   "metadata": {}
  },
  {
   "cell_type": "code",
   "execution_count": null,
   "source": [
    "category=[\"plane\",\"automobile\",\"bird\",\"cat\",\"deer\",\"dog\",\"frog\",\"horse\",\"ship\",\"truck\"]"
   ],
   "outputs": [],
   "metadata": {}
  },
  {
   "cell_type": "code",
   "execution_count": null,
   "source": [
    "FILE_PATH=('C:/Mic/projects/ML/dataset/cifar-10-batches-py/data_batch_1')\r\n",
    "image_dict=unpickle(FILE_PATH)\r\n",
    "\r\n",
    "images=np.array(image_dict[b'data']).reshape(10000,3072)\r\n",
    "labels=np.array(image_dict[b'labels'])\r\n",
    "print(images.shape)\r\n",
    "print(labels.shape)\r\n",
    "\r\n",
    "rgb_images=[]\r\n",
    "for im in images:\r\n",
    "    rgb_images.append(getRGB(im))\r\n",
    "rgb_images=np.array(rgb_images)\r\n",
    "print(rgb_images.shape)"
   ],
   "outputs": [],
   "metadata": {}
  },
  {
   "cell_type": "code",
   "execution_count": null,
   "source": [
    "train_X=tf.cast(rgb_images/255,tf.float32)\r\n",
    "train_Y=tf.convert_to_tensor(labels,tf.int16)"
   ],
   "outputs": [],
   "metadata": {}
  },
  {
   "cell_type": "code",
   "execution_count": null,
   "source": [
    "model = models.Sequential()\r\n",
    "model.add(layers.Conv2D(32, (3, 3), activation='relu', input_shape=(32, 32, 3)))\r\n",
    "model.add(layers.MaxPooling2D((2, 2)))\r\n",
    "#model.add(layers.Conv2D(64, (3, 3), activation='relu'))\r\n",
    "#model.add(layers.MaxPooling2D((2, 2)))\r\n",
    "#model.add(layers.Conv2D(64, (3, 3), activation='relu'))\r\n",
    "model.add(layers.Flatten()) # 3维 转为 1维\r\n",
    "model.add(layers.Dense(32, activation='relu'))  \r\n",
    "model.add(layers.Dense(10, activation='softmax')) \r\n",
    "model.summary()"
   ],
   "outputs": [],
   "metadata": {}
  },
  {
   "cell_type": "code",
   "execution_count": null,
   "source": [
    "model.compile(optimizer='adam',\r\n",
    "              loss='sparse_categorical_crossentropy',\r\n",
    "              metrics=['accuracy'])"
   ],
   "outputs": [],
   "metadata": {}
  },
  {
   "cell_type": "code",
   "execution_count": null,
   "source": [
    "logs = \"./logs/myYolo\"\r\n",
    "tboard_callback = tf.keras.callbacks.TensorBoard(log_dir = logs,\r\n",
    "                                                 update_freq = 10000,\r\n",
    "                                                 profile_batch = 2)\r\n",
    "\r\n",
    "history = model.fit(train_X, train_Y, epochs=10, callbacks=[tboard_callback])"
   ],
   "outputs": [],
   "metadata": {}
  },
  {
   "cell_type": "code",
   "execution_count": null,
   "source": [
    "plt.imshow(rgb_images[np.random.randint(10000)])"
   ],
   "outputs": [],
   "metadata": {}
  },
  {
   "cell_type": "code",
   "execution_count": null,
   "source": [
    "FILE_PATH=('C:/Mic/projects/ML/dataset/cifar-10-batches-py/data_batch_2')\r\n",
    "image_dict_y=unpickle(FILE_PATH)\r\n",
    "\r\n",
    "#print(image_dict_y)\r\n",
    "\r\n",
    "images_y=np.array(image_dict[b'data']).reshape(10000,3072)\r\n",
    "labels_y=np.array(image_dict[b'labels'])\r\n",
    "\r\n",
    "rgb_images_y=[]\r\n",
    "for im in images_y:\r\n",
    "    rgb_images_y.append(getRGB(im))\r\n",
    "rgb_images_y=np.array(rgb_images_y)\r\n",
    "print(rgb_images_y.shape)\r\n",
    "\r\n",
    "\r\n"
   ],
   "outputs": [],
   "metadata": {}
  },
  {
   "cell_type": "code",
   "execution_count": null,
   "source": [
    "test_X=tf.cast(rgb_images_y/255,tf.float32)\r\n",
    "\r\n",
    "test_Y=model.predict(test_X)"
   ],
   "outputs": [],
   "metadata": {}
  },
  {
   "cell_type": "code",
   "execution_count": null,
   "source": [
    "n=np.random.randint(10000)\r\n",
    "plt.imshow(rgb_images_y[n])\r\n",
    "\r\n",
    "cl=labels_y[n] \r\n",
    "print(\"label is: %s\" %category[cl])\r\n",
    "c=np.argmax(test_Y[n])\r\n",
    "print(\"predict is: %s\" %category[c])\r\n"
   ],
   "outputs": [],
   "metadata": {}
  },
  {
   "cell_type": "code",
   "execution_count": null,
   "source": [
    "model.save(\"./model/myYolo\")"
   ],
   "outputs": [],
   "metadata": {}
  },
  {
   "cell_type": "code",
   "execution_count": null,
   "source": [
    "#model.summary()\r\n",
    "\r\n",
    "outputs=model.get_layer('conv2d').output\r\n",
    "\r\n",
    "\r\n",
    "visualization_model = tf.keras.models.Model(inputs = model.input, outputs = outputs)\r\n",
    "train_X_c = np.array(train_X).reshape((1,) + train_X.shape)\r\n",
    "print(train_X_c.shape)\r\n",
    "\r\n",
    "successive_feature_maps = visualization_model.predict(train_X_c[0:2])\r\n",
    "\r\n",
    "layer_names = [layer.name for layer in model.layers]\r\n",
    "\r\n",
    "\r\n",
    "for layer_name, feature_map in zip(layer_names, successive_feature_maps): \r\n",
    "        print(feature_map)\r\n",
    "        print(feature_map.shape)\r\n",
    "        n_features = feature_map.shape[-1]\r\n",
    "        size = feature_map.shape[1]\r\n",
    "        display_grid = np.zeros((size, size * n_features))\r\n",
    "        for i in range(n_features):\r\n",
    "            x = feature_map[0, :, :, i]\r\n",
    "            x -= x.mean()\r\n",
    "            x /= x.std()\r\n",
    "            x *= 64\r\n",
    "            x += 128\r\n",
    "            x = np.clip(x, 0, 255).astype('uint8')\r\n",
    "            display_grid[:, i * size : (i + 1) * size] = x\r\n",
    "            scale = 20. / n_features\r\n",
    "            plt.figure(figsize=(scale * n_features, scale))\r\n",
    "            plt.title(layer_name)\r\n",
    "            plt.grid(False)\r\n",
    "            plt.imshow(display_grid, aspect='auto', cmap='viridis')\r\n",
    "\r\n",
    "            \r\n"
   ],
   "outputs": [],
   "metadata": {}
  }
 ],
 "metadata": {
  "orig_nbformat": 4,
  "language_info": {
   "name": "python",
   "version": "3.7.11",
   "mimetype": "text/x-python",
   "codemirror_mode": {
    "name": "ipython",
    "version": 3
   },
   "pygments_lexer": "ipython3",
   "nbconvert_exporter": "python",
   "file_extension": ".py"
  },
  "kernelspec": {
   "name": "python3",
   "display_name": "Python 3.7.11 64-bit ('tensorflow': conda)"
  },
  "interpreter": {
   "hash": "fb4899e21819f12792cc43afe8e0116933b76af9efe7c0093f502fb73958fc94"
  }
 },
 "nbformat": 4,
 "nbformat_minor": 2
}